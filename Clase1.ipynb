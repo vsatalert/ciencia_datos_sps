{
  "nbformat": 4,
  "nbformat_minor": 0,
  "metadata": {
    "colab": {
      "name": "Clase1.ipynb",
      "provenance": []
    },
    "kernelspec": {
      "name": "python3",
      "display_name": "Python 3"
    }
  },
  "cells": [
    {
      "cell_type": "markdown",
      "metadata": {
        "id": "wXl1B5Towzs2"
      },
      "source": [
        "# Python Básico"
      ]
    },
    {
      "cell_type": "markdown",
      "metadata": {
        "id": "rKILsKgexC9F"
      },
      "source": [
        "## Inicio"
      ]
    },
    {
      "cell_type": "code",
      "metadata": {
        "id": "eNJ1I8uRugL4",
        "outputId": "01a3a91b-6f7c-44a2-9176-cc07c7943ff5",
        "colab": {
          "base_uri": "https://localhost:8080/"
        }
      },
      "source": [
        "print('hola mundo')"
      ],
      "execution_count": null,
      "outputs": [
        {
          "output_type": "stream",
          "text": [
            "hola mundo\n"
          ],
          "name": "stdout"
        }
      ]
    },
    {
      "cell_type": "code",
      "metadata": {
        "id": "d-IhE_G1v8_P",
        "outputId": "d0c62943-6b63-4916-df0d-d39706f7df08",
        "colab": {
          "base_uri": "https://localhost:8080/"
        }
      },
      "source": [
        "!ls"
      ],
      "execution_count": null,
      "outputs": [
        {
          "output_type": "stream",
          "text": [
            "sample_data\n"
          ],
          "name": "stdout"
        }
      ]
    },
    {
      "cell_type": "code",
      "metadata": {
        "id": "cVAhjc89wNbV",
        "outputId": "e25da97b-482a-4291-f530-7390e3ca5213",
        "colab": {
          "base_uri": "https://localhost:8080/"
        }
      },
      "source": [
        "!uname -a"
      ],
      "execution_count": null,
      "outputs": [
        {
          "output_type": "stream",
          "text": [
            "Linux c6062f2f4edd 4.19.112+ #1 SMP Thu Jul 23 08:00:38 PDT 2020 x86_64 x86_64 x86_64 GNU/Linux\n"
          ],
          "name": "stdout"
        }
      ]
    },
    {
      "cell_type": "markdown",
      "metadata": {
        "id": "6uXw4L6Lwhs1"
      },
      "source": [
        "## Tipos de Datos"
      ]
    },
    {
      "cell_type": "markdown",
      "metadata": {
        "id": "rylS55aexcmb"
      },
      "source": [
        "<table>\n",
        "  <tr>\n",
        "    <td>Variable</td>\n",
        "    <td>Valor</td>\n",
        "  </tr>\n",
        "  <tr>\n",
        "    <td>String</td>\n",
        "    <td>'valor'</td>\n",
        "  </tr>\n",
        "  <tr>\n",
        "    <td>Int</td>\n",
        "    <td>5</td>\n",
        "  </tr>\n",
        "  <tr>\n",
        "    <td>Float</td>\n",
        "    <td>5.3</td>\n",
        "  </tr>\n",
        "</table>"
      ]
    },
    {
      "cell_type": "code",
      "metadata": {
        "id": "0F0iUx98wSjM",
        "outputId": "01b6ad2f-2c46-4b0e-e680-5f04fe337cbf",
        "colab": {
          "base_uri": "https://localhost:8080/"
        }
      },
      "source": [
        "variable1 = 'hola'\n",
        "print(variable1)"
      ],
      "execution_count": null,
      "outputs": [
        {
          "output_type": "stream",
          "text": [
            "hola\n"
          ],
          "name": "stdout"
        }
      ]
    },
    {
      "cell_type": "code",
      "metadata": {
        "id": "sJ0fGC2JyPHH",
        "outputId": "b4580ab6-1ef5-4729-ca67-7001be33fcd8",
        "colab": {
          "base_uri": "https://localhost:8080/"
        }
      },
      "source": [
        "variable1 = 3.5\n",
        "print(variable1)"
      ],
      "execution_count": null,
      "outputs": [
        {
          "output_type": "stream",
          "text": [
            "3.5\n"
          ],
          "name": "stdout"
        }
      ]
    },
    {
      "cell_type": "code",
      "metadata": {
        "id": "g8MYX-yIySak",
        "outputId": "0e28a738-9fd7-4ef9-cf38-37f8287990c9",
        "colab": {
          "base_uri": "https://localhost:8080/"
        }
      },
      "source": [
        "print(type(variable1))"
      ],
      "execution_count": null,
      "outputs": [
        {
          "output_type": "stream",
          "text": [
            "<class 'float'>\n"
          ],
          "name": "stdout"
        }
      ]
    },
    {
      "cell_type": "code",
      "metadata": {
        "id": "xZbEoOnoyaVU",
        "outputId": "dc7d1152-6012-4f68-b27b-26432871acaa",
        "colab": {
          "base_uri": "https://localhost:8080/"
        }
      },
      "source": [
        "type(variable1)"
      ],
      "execution_count": null,
      "outputs": [
        {
          "output_type": "execute_result",
          "data": {
            "text/plain": [
              "float"
            ]
          },
          "metadata": {
            "tags": []
          },
          "execution_count": 13
        }
      ]
    },
    {
      "cell_type": "code",
      "metadata": {
        "id": "QXXlbeKryfSt",
        "outputId": "dd36fdc7-b08f-433a-a862-cc051f376589",
        "colab": {
          "base_uri": "https://localhost:8080/"
        }
      },
      "source": [
        "# Boolean Type: True // False\n",
        "print(type(True)) "
      ],
      "execution_count": null,
      "outputs": [
        {
          "output_type": "stream",
          "text": [
            "<class 'bool'>\n"
          ],
          "name": "stdout"
        }
      ]
    },
    {
      "cell_type": "code",
      "metadata": {
        "id": "XvYBE2l8ypX8",
        "outputId": "7ae8479c-1ded-417b-9c2d-cfdab2dc975e",
        "colab": {
          "base_uri": "https://localhost:8080/"
        }
      },
      "source": [
        "variable = 4.2\n",
        "variable = int(variable)\n",
        "print(variable)\n",
        "print(type(variable))"
      ],
      "execution_count": null,
      "outputs": [
        {
          "output_type": "stream",
          "text": [
            "4\n",
            "<class 'int'>\n"
          ],
          "name": "stdout"
        }
      ]
    },
    {
      "cell_type": "code",
      "metadata": {
        "id": "nXOMHMeuzOFw",
        "outputId": "7ea3cd4e-9f90-477a-ad5e-58d70377f02b",
        "colab": {
          "base_uri": "https://localhost:8080/"
        }
      },
      "source": [
        "print(\"Hola\")\n",
        "print('Hola x2')"
      ],
      "execution_count": null,
      "outputs": [
        {
          "output_type": "stream",
          "text": [
            "Hola\n",
            "Hola x2\n"
          ],
          "name": "stdout"
        }
      ]
    },
    {
      "cell_type": "markdown",
      "metadata": {
        "id": "fxn9q4tT0Cgf"
      },
      "source": [
        "Como usar comillas en strings"
      ]
    },
    {
      "cell_type": "code",
      "metadata": {
        "id": "ORgQ8ZpUzqE0",
        "outputId": "887a4fe5-93dc-4d21-ad6d-28048fa02b54",
        "colab": {
          "base_uri": "https://localhost:8080/"
        }
      },
      "source": [
        "print(\"Hola 'SPS'\")\n",
        "print('Hola \"SPS\" x2')"
      ],
      "execution_count": null,
      "outputs": [
        {
          "output_type": "stream",
          "text": [
            "Hola 'SPS'\n",
            "Hola \"SPS\" x2\n"
          ],
          "name": "stdout"
        }
      ]
    },
    {
      "cell_type": "markdown",
      "metadata": {
        "id": "Nr9vXxCX0IMm"
      },
      "source": [
        "## Operadores"
      ]
    },
    {
      "cell_type": "code",
      "metadata": {
        "id": "BbTmYX1-z1cG",
        "outputId": "888dcc2a-af07-4e79-b6eb-ce841b034c10",
        "colab": {
          "base_uri": "https://localhost:8080/"
        }
      },
      "source": [
        "print(5 - 4)\n",
        "print(5 + 4)\n",
        "print(5 * 4)\n",
        "print(5 / 4)"
      ],
      "execution_count": null,
      "outputs": [
        {
          "output_type": "stream",
          "text": [
            "1\n",
            "9\n",
            "20\n",
            "1.25\n"
          ],
          "name": "stdout"
        }
      ]
    },
    {
      "cell_type": "code",
      "metadata": {
        "id": "vPgL46er0S31",
        "outputId": "a9ee0de5-57e4-49e7-c99d-09ea003514ca",
        "colab": {
          "base_uri": "https://localhost:8080/"
        }
      },
      "source": [
        "# Division entera\n",
        "print(5 // 4)\n",
        "# Modulo\n",
        "print(14 % 4)\n",
        "# Exp\n",
        "print(2 ** 3)"
      ],
      "execution_count": null,
      "outputs": [
        {
          "output_type": "stream",
          "text": [
            "1\n",
            "2\n",
            "8\n"
          ],
          "name": "stdout"
        }
      ]
    },
    {
      "cell_type": "markdown",
      "metadata": {
        "id": "hNzVIFjx1l8S"
      },
      "source": [
        "## Listas"
      ]
    },
    {
      "cell_type": "code",
      "metadata": {
        "id": "Et-90aA_1otI"
      },
      "source": [
        "lista = list()\n",
        "lista = []"
      ],
      "execution_count": null,
      "outputs": []
    },
    {
      "cell_type": "code",
      "metadata": {
        "id": "fV2EH8uW2AyS"
      },
      "source": [
        "lista = [2, 3.5, 'hola', 8, 5, 7, 9]"
      ],
      "execution_count": null,
      "outputs": []
    },
    {
      "cell_type": "code",
      "metadata": {
        "id": "UH4SqMZc2JwS",
        "outputId": "20f41195-43ee-4ac0-ca4e-8bce68edab6b",
        "colab": {
          "base_uri": "https://localhost:8080/"
        }
      },
      "source": [
        "print(type(lista))"
      ],
      "execution_count": null,
      "outputs": [
        {
          "output_type": "stream",
          "text": [
            "<class 'list'>\n"
          ],
          "name": "stdout"
        }
      ]
    },
    {
      "cell_type": "code",
      "metadata": {
        "id": "wqMCExsB2h4z",
        "outputId": "fb6d1480-bbb8-44b1-fd38-5850ddd9d1e4",
        "colab": {
          "base_uri": "https://localhost:8080/"
        }
      },
      "source": [
        "print(len(lista))"
      ],
      "execution_count": null,
      "outputs": [
        {
          "output_type": "stream",
          "text": [
            "7\n"
          ],
          "name": "stdout"
        }
      ]
    },
    {
      "cell_type": "code",
      "metadata": {
        "id": "k4ClzVdR2JiS",
        "outputId": "ace5e6c9-f5f4-41b9-b542-a268212e367f",
        "colab": {
          "base_uri": "https://localhost:8080/"
        }
      },
      "source": [
        "# [1;3>\n",
        "print(lista[1:3])"
      ],
      "execution_count": null,
      "outputs": [
        {
          "output_type": "stream",
          "text": [
            "[3.5, 'hola']\n"
          ],
          "name": "stdout"
        }
      ]
    },
    {
      "cell_type": "code",
      "metadata": {
        "id": "2Zgkr6d_2aAX",
        "outputId": "cc1c4a0e-15c9-43a2-fa95-e9e8e2f71c57",
        "colab": {
          "base_uri": "https://localhost:8080/"
        }
      },
      "source": [
        "print(lista[-6:-4])"
      ],
      "execution_count": null,
      "outputs": [
        {
          "output_type": "stream",
          "text": [
            "[3.5, 'hola']\n"
          ],
          "name": "stdout"
        }
      ]
    },
    {
      "cell_type": "markdown",
      "metadata": {
        "id": "JeS9q0-A03uo"
      },
      "source": [
        "## If, For, While"
      ]
    },
    {
      "cell_type": "code",
      "metadata": {
        "id": "gKjrQua303YJ",
        "outputId": "9e805a22-ad26-469e-e9f0-bb4b3f909cdd",
        "colab": {
          "base_uri": "https://localhost:8080/"
        }
      },
      "source": [
        "var = 11\n",
        "\n",
        "if var > 5:\n",
        "  # codigo\n",
        "  print(\"mayor que 5\")\n",
        "else:\n",
        "  # otro codigo\n",
        "  print(\"menor que 5\")"
      ],
      "execution_count": null,
      "outputs": [
        {
          "output_type": "stream",
          "text": [
            "mayor que 5\n"
          ],
          "name": "stdout"
        }
      ]
    },
    {
      "cell_type": "code",
      "metadata": {
        "id": "RJdJa8TK0ZBH",
        "outputId": "406f722b-c991-4968-b910-8cf1b382be40",
        "colab": {
          "base_uri": "https://localhost:8080/"
        }
      },
      "source": [
        "lista"
      ],
      "execution_count": null,
      "outputs": [
        {
          "output_type": "execute_result",
          "data": {
            "text/plain": [
              "[2, 3.5, 'hola', 8, 5, 7, 9]"
            ]
          },
          "metadata": {
            "tags": []
          },
          "execution_count": 35
        }
      ]
    },
    {
      "cell_type": "code",
      "metadata": {
        "id": "JaoMFXD132al",
        "outputId": "46101289-6999-4895-d9ac-856585a34077",
        "colab": {
          "base_uri": "https://localhost:8080/"
        }
      },
      "source": [
        "for i in lista:\n",
        "  print(i)"
      ],
      "execution_count": null,
      "outputs": [
        {
          "output_type": "stream",
          "text": [
            "2\n",
            "3.5\n",
            "hola\n",
            "8\n",
            "5\n",
            "7\n",
            "9\n"
          ],
          "name": "stdout"
        }
      ]
    },
    {
      "cell_type": "code",
      "metadata": {
        "id": "S7SSjv2i3-E1",
        "outputId": "5ea690f3-225b-4669-b748-814a097d04d5",
        "colab": {
          "base_uri": "https://localhost:8080/"
        }
      },
      "source": [
        "for i in range(8):\n",
        "  print(i + 5)"
      ],
      "execution_count": null,
      "outputs": [
        {
          "output_type": "stream",
          "text": [
            "5\n",
            "6\n",
            "7\n",
            "8\n",
            "9\n",
            "10\n",
            "11\n",
            "12\n"
          ],
          "name": "stdout"
        }
      ]
    },
    {
      "cell_type": "code",
      "metadata": {
        "id": "I8vQnMUB4T3d",
        "outputId": "d742e33f-6768-482f-92c9-b5bf35f0c246",
        "colab": {
          "base_uri": "https://localhost:8080/"
        }
      },
      "source": [
        "var = 5\n",
        "\n",
        "while var >= 0:\n",
        "  print(var)\n",
        "  # var = var - 1\n",
        "  var -= 1"
      ],
      "execution_count": null,
      "outputs": [
        {
          "output_type": "stream",
          "text": [
            "5\n",
            "4\n",
            "3\n",
            "2\n",
            "1\n",
            "0\n"
          ],
          "name": "stdout"
        }
      ]
    },
    {
      "cell_type": "markdown",
      "metadata": {
        "id": "RRdTG0Df5GRG"
      },
      "source": [
        "## Funciones"
      ]
    },
    {
      "cell_type": "code",
      "metadata": {
        "id": "VVpHN_-95FcP"
      },
      "source": [
        "def primera_funcion(x):\n",
        "  return x ** 2"
      ],
      "execution_count": null,
      "outputs": []
    },
    {
      "cell_type": "code",
      "metadata": {
        "id": "3yUM3dsx43vq"
      },
      "source": [
        "new_var = primera_funcion(6)"
      ],
      "execution_count": null,
      "outputs": []
    },
    {
      "cell_type": "code",
      "metadata": {
        "id": "rE_DtIEF5XoO",
        "outputId": "a5beef72-75a8-4deb-8f0a-21dce71cfefa",
        "colab": {
          "base_uri": "https://localhost:8080/"
        }
      },
      "source": [
        "new_var"
      ],
      "execution_count": null,
      "outputs": [
        {
          "output_type": "execute_result",
          "data": {
            "text/plain": [
              "36"
            ]
          },
          "metadata": {
            "tags": []
          },
          "execution_count": 49
        }
      ]
    },
    {
      "cell_type": "code",
      "metadata": {
        "id": "EzRKuJew5eVQ"
      },
      "source": [
        "def segunda_funcion(x, y):\n",
        "  z = x *y + x\n",
        "  return z"
      ],
      "execution_count": null,
      "outputs": []
    },
    {
      "cell_type": "code",
      "metadata": {
        "id": "jg3h-G_d56Z_",
        "outputId": "772e891b-b30e-4242-cf3e-aecd52d81f7b",
        "colab": {
          "base_uri": "https://localhost:8080/"
        }
      },
      "source": [
        "segunda_funcion(4,3)"
      ],
      "execution_count": null,
      "outputs": [
        {
          "output_type": "execute_result",
          "data": {
            "text/plain": [
              "16"
            ]
          },
          "metadata": {
            "tags": []
          },
          "execution_count": 51
        }
      ]
    },
    {
      "cell_type": "markdown",
      "metadata": {
        "id": "8rBQqisT6Er3"
      },
      "source": [
        "## Entrada de valores"
      ]
    },
    {
      "cell_type": "code",
      "metadata": {
        "id": "Wmx-eMq_6ERP",
        "outputId": "a3ef3784-be99-4226-c2b5-9342278861c1",
        "colab": {
          "base_uri": "https://localhost:8080/"
        }
      },
      "source": [
        "dato_ingreso = input('Ingresa algo: ')"
      ],
      "execution_count": null,
      "outputs": [
        {
          "output_type": "stream",
          "text": [
            "Ingresa algo: 59\n"
          ],
          "name": "stdout"
        }
      ]
    },
    {
      "cell_type": "code",
      "metadata": {
        "id": "_lWhq8Tr5-OO",
        "outputId": "6f5d03ca-cf50-4025-f401-0e33ef3579c6",
        "colab": {
          "base_uri": "https://localhost:8080/",
          "height": 35
        }
      },
      "source": [
        "dato_ingreso"
      ],
      "execution_count": null,
      "outputs": [
        {
          "output_type": "execute_result",
          "data": {
            "application/vnd.google.colaboratory.intrinsic+json": {
              "type": "string"
            },
            "text/plain": [
              "'59'"
            ]
          },
          "metadata": {
            "tags": []
          },
          "execution_count": 54
        }
      ]
    },
    {
      "cell_type": "code",
      "metadata": {
        "id": "nIyJ39Tf6ZOH",
        "outputId": "949ccdb4-4ce1-45da-efb7-e95c4493a161",
        "colab": {
          "base_uri": "https://localhost:8080/"
        }
      },
      "source": [
        "type(dato_ingreso)"
      ],
      "execution_count": null,
      "outputs": [
        {
          "output_type": "execute_result",
          "data": {
            "text/plain": [
              "str"
            ]
          },
          "metadata": {
            "tags": []
          },
          "execution_count": 55
        }
      ]
    },
    {
      "cell_type": "markdown",
      "metadata": {
        "id": "xKzRFpGy-B7U"
      },
      "source": [
        "## Librerías"
      ]
    },
    {
      "cell_type": "markdown",
      "metadata": {
        "id": "KvkTRr1N-VND"
      },
      "source": [
        "Ver en que carpeta estoy"
      ]
    },
    {
      "cell_type": "code",
      "metadata": {
        "id": "s0tnkfh16dzX",
        "outputId": "ae316d23-46a9-48bf-d96c-b849a309e5cb",
        "colab": {
          "base_uri": "https://localhost:8080/"
        }
      },
      "source": [
        "!pwd"
      ],
      "execution_count": null,
      "outputs": [
        {
          "output_type": "stream",
          "text": [
            "/content\n"
          ],
          "name": "stdout"
        }
      ]
    },
    {
      "cell_type": "markdown",
      "metadata": {
        "id": "1F8sZgCD-YLS"
      },
      "source": [
        "Listar los archivos/carpetas que hay dentro"
      ]
    },
    {
      "cell_type": "code",
      "metadata": {
        "id": "Y8NgwC-Z-Qe9",
        "outputId": "5201a9e2-909f-4f5f-c2a7-9a08350f4f61",
        "colab": {
          "base_uri": "https://localhost:8080/"
        }
      },
      "source": [
        "!ls"
      ],
      "execution_count": null,
      "outputs": [
        {
          "output_type": "stream",
          "text": [
            "sample_data\n"
          ],
          "name": "stdout"
        }
      ]
    },
    {
      "cell_type": "code",
      "metadata": {
        "id": "CdImsQUT-Tsi",
        "outputId": "ae410098-d1e1-420b-c44e-a0fed9dfd630",
        "colab": {
          "base_uri": "https://localhost:8080/"
        }
      },
      "source": [
        "%ls"
      ],
      "execution_count": null,
      "outputs": [
        {
          "output_type": "stream",
          "text": [
            "\u001b[0m\u001b[01;34msample_data\u001b[0m/\n"
          ],
          "name": "stdout"
        }
      ]
    },
    {
      "cell_type": "code",
      "metadata": {
        "id": "L4R2wzrZ_dFD",
        "outputId": "3e903ada-321a-4d9a-df66-2278e1139d26",
        "colab": {
          "base_uri": "https://localhost:8080/"
        }
      },
      "source": [
        "100_000"
      ],
      "execution_count": null,
      "outputs": [
        {
          "output_type": "execute_result",
          "data": {
            "text/plain": [
              "100000"
            ]
          },
          "metadata": {
            "tags": []
          },
          "execution_count": 59
        }
      ]
    },
    {
      "cell_type": "code",
      "metadata": {
        "id": "2U0Ah0-L_Jeu",
        "outputId": "f620cdc8-ee36-4c4c-8a4d-aedb89f294d4",
        "colab": {
          "base_uri": "https://localhost:8080/"
        }
      },
      "source": [
        "%%time\n",
        "valor = 0\n",
        "for i in range(100_000_000):\n",
        "  # valor = valor + 1\n",
        "  valor += 1\n",
        "print(valor)"
      ],
      "execution_count": null,
      "outputs": [
        {
          "output_type": "stream",
          "text": [
            "100000000\n",
            "CPU times: user 9.86 s, sys: 1.48 ms, total: 9.86 s\n",
            "Wall time: 9.87 s\n"
          ],
          "name": "stdout"
        }
      ]
    },
    {
      "cell_type": "code",
      "metadata": {
        "id": "5ayqfzsc_xKc",
        "outputId": "64e68fa1-5954-40d6-f324-46283625539b",
        "colab": {
          "base_uri": "https://localhost:8080/"
        }
      },
      "source": [
        "%%writefile archivo.txt\n",
        "Cualquier cosa"
      ],
      "execution_count": null,
      "outputs": [
        {
          "output_type": "stream",
          "text": [
            "Writing archivo.txt\n"
          ],
          "name": "stdout"
        }
      ]
    },
    {
      "cell_type": "code",
      "metadata": {
        "id": "H0oDFjpWARAd",
        "outputId": "b8dbc043-b6dc-428d-d171-8b74b980de96",
        "colab": {
          "base_uri": "https://localhost:8080/"
        }
      },
      "source": [
        "%ls"
      ],
      "execution_count": null,
      "outputs": [
        {
          "output_type": "stream",
          "text": [
            "archivo.txt  \u001b[0m\u001b[01;34msample_data\u001b[0m/\n"
          ],
          "name": "stdout"
        }
      ]
    },
    {
      "cell_type": "code",
      "metadata": {
        "id": "dosnCeb0AV_7",
        "outputId": "dc046587-14c3-4414-fd2b-496611f1b53e",
        "colab": {
          "base_uri": "https://localhost:8080/"
        }
      },
      "source": [
        "# cat para abrir archivo\n",
        "!cat archivo.txt"
      ],
      "execution_count": null,
      "outputs": [
        {
          "output_type": "stream",
          "text": [
            "Cualquier cosa"
          ],
          "name": "stdout"
        }
      ]
    },
    {
      "cell_type": "code",
      "metadata": {
        "id": "pODuUGMHBGhL",
        "outputId": "c4b447ce-cf6d-4458-adb2-abe9658a7e4c",
        "colab": {
          "base_uri": "https://localhost:8080/"
        }
      },
      "source": [
        "%%writefile mimod.py\n",
        "def suma(x, y):\n",
        "  return x + y\n",
        "\n",
        "def mult(x, y):\n",
        "  return x * y"
      ],
      "execution_count": null,
      "outputs": [
        {
          "output_type": "stream",
          "text": [
            "Overwriting mimod.py\n"
          ],
          "name": "stdout"
        }
      ]
    },
    {
      "cell_type": "code",
      "metadata": {
        "id": "voRjyp23Cy2-",
        "outputId": "aaef0736-63ae-49f9-834c-38a7a7bbe4d6",
        "colab": {
          "base_uri": "https://localhost:8080/"
        }
      },
      "source": [
        "!cat mimod.py"
      ],
      "execution_count": null,
      "outputs": [
        {
          "output_type": "stream",
          "text": [
            "def suma(x, y):\n",
            "  return x + y\n",
            "\n",
            "def mult(x, y):\n",
            "  return x * y"
          ],
          "name": "stdout"
        }
      ]
    },
    {
      "cell_type": "markdown",
      "metadata": {
        "id": "ikByAyYHBzs1"
      },
      "source": [
        "Importar modulo"
      ]
    },
    {
      "cell_type": "code",
      "metadata": {
        "id": "zYmS1B44BeTN"
      },
      "source": [
        "import mimod as mm"
      ],
      "execution_count": null,
      "outputs": []
    },
    {
      "cell_type": "code",
      "metadata": {
        "id": "DPmVCKX_Byxk",
        "outputId": "33d2de24-9146-4598-b65d-6ed14215755c",
        "colab": {
          "base_uri": "https://localhost:8080/"
        }
      },
      "source": [
        "mimod.suma(5, 3)"
      ],
      "execution_count": null,
      "outputs": [
        {
          "output_type": "execute_result",
          "data": {
            "text/plain": [
              "8"
            ]
          },
          "metadata": {
            "tags": []
          },
          "execution_count": 68
        }
      ]
    },
    {
      "cell_type": "code",
      "metadata": {
        "id": "30hqsg0eCA8U",
        "outputId": "d488a875-9760-4200-bd4a-c00b428c7d3e",
        "colab": {
          "base_uri": "https://localhost:8080/"
        }
      },
      "source": [
        "mimod.mult(5, 3)"
      ],
      "execution_count": null,
      "outputs": [
        {
          "output_type": "execute_result",
          "data": {
            "text/plain": [
              "15"
            ]
          },
          "metadata": {
            "tags": []
          },
          "execution_count": 69
        }
      ]
    },
    {
      "cell_type": "code",
      "metadata": {
        "id": "mk1g6qU7CCks",
        "outputId": "ba95841b-73a8-499a-92bc-418132106fa6",
        "colab": {
          "base_uri": "https://localhost:8080/"
        }
      },
      "source": [
        "mm.mult(6,8)"
      ],
      "execution_count": null,
      "outputs": [
        {
          "output_type": "execute_result",
          "data": {
            "text/plain": [
              "48"
            ]
          },
          "metadata": {
            "tags": []
          },
          "execution_count": 83
        }
      ]
    },
    {
      "cell_type": "markdown",
      "metadata": {
        "id": "DiS-26n3ETnm"
      },
      "source": [
        "# Numpy"
      ]
    },
    {
      "cell_type": "code",
      "metadata": {
        "id": "q21a499UD_nC"
      },
      "source": [
        "import numpy as np"
      ],
      "execution_count": null,
      "outputs": []
    },
    {
      "cell_type": "code",
      "metadata": {
        "id": "0PMw_TUwEowq",
        "outputId": "fb375184-e69b-4362-87dd-f729707a6010",
        "colab": {
          "base_uri": "https://localhost:8080/"
        }
      },
      "source": [
        "np.array([2, 4, 6])"
      ],
      "execution_count": null,
      "outputs": [
        {
          "output_type": "execute_result",
          "data": {
            "text/plain": [
              "array([2, 4, 6])"
            ]
          },
          "metadata": {
            "tags": []
          },
          "execution_count": 85
        }
      ]
    },
    {
      "cell_type": "code",
      "metadata": {
        "id": "P5e90Z31FYdh",
        "outputId": "67475eee-2e68-4695-c37f-ff60f032cb11",
        "colab": {
          "base_uri": "https://localhost:8080/"
        }
      },
      "source": [
        "np.array([[2, 4, 6], [3, 5, 7]])"
      ],
      "execution_count": null,
      "outputs": [
        {
          "output_type": "execute_result",
          "data": {
            "text/plain": [
              "array([[2, 4, 6],\n",
              "       [3, 5, 7]])"
            ]
          },
          "metadata": {
            "tags": []
          },
          "execution_count": 86
        }
      ]
    },
    {
      "cell_type": "code",
      "metadata": {
        "id": "kf3_X8_NFtx2"
      },
      "source": [
        "vector = np.array([2, 4, 6])"
      ],
      "execution_count": null,
      "outputs": []
    },
    {
      "cell_type": "code",
      "metadata": {
        "id": "T5vS-zOAFydO"
      },
      "source": [
        "matriz = np.array([[2, 4, 6], [3, 5, 7]])"
      ],
      "execution_count": null,
      "outputs": []
    },
    {
      "cell_type": "code",
      "metadata": {
        "id": "Pqpgx_taF1Dl",
        "outputId": "721f1566-7d5b-4674-b183-2f3f6feb80f3",
        "colab": {
          "base_uri": "https://localhost:8080/"
        }
      },
      "source": [
        "type(vector)"
      ],
      "execution_count": null,
      "outputs": [
        {
          "output_type": "execute_result",
          "data": {
            "text/plain": [
              "numpy.ndarray"
            ]
          },
          "metadata": {
            "tags": []
          },
          "execution_count": 89
        }
      ]
    },
    {
      "cell_type": "code",
      "metadata": {
        "id": "HRmb_g9zF4Tm",
        "outputId": "f1b1a657-0fd1-4d73-9ee1-7fe6903495aa",
        "colab": {
          "base_uri": "https://localhost:8080/"
        }
      },
      "source": [
        "type(matriz)"
      ],
      "execution_count": null,
      "outputs": [
        {
          "output_type": "execute_result",
          "data": {
            "text/plain": [
              "numpy.ndarray"
            ]
          },
          "metadata": {
            "tags": []
          },
          "execution_count": 90
        }
      ]
    },
    {
      "cell_type": "code",
      "metadata": {
        "id": "0Lr-IWOlF9W_",
        "outputId": "ed7da041-bbdb-4f39-ac26-bcacaab5c184",
        "colab": {
          "base_uri": "https://localhost:8080/"
        }
      },
      "source": [
        "vector.ndim , matriz.ndim"
      ],
      "execution_count": null,
      "outputs": [
        {
          "output_type": "execute_result",
          "data": {
            "text/plain": [
              "(1, 2)"
            ]
          },
          "metadata": {
            "tags": []
          },
          "execution_count": 91
        }
      ]
    },
    {
      "cell_type": "code",
      "metadata": {
        "id": "MscZ82TPGGwO",
        "outputId": "b0e13498-bc46-46b1-e6d6-4997aee67ece",
        "colab": {
          "base_uri": "https://localhost:8080/"
        }
      },
      "source": [
        "matriz.shape"
      ],
      "execution_count": null,
      "outputs": [
        {
          "output_type": "execute_result",
          "data": {
            "text/plain": [
              "(2, 3)"
            ]
          },
          "metadata": {
            "tags": []
          },
          "execution_count": 92
        }
      ]
    },
    {
      "cell_type": "code",
      "metadata": {
        "id": "yGqcqwUWGP2t"
      },
      "source": [
        "matriz = np.array([[2, 4, 6], \n",
        "                   [3, 5, 7],\n",
        "                   [4, 6, 8]])"
      ],
      "execution_count": null,
      "outputs": []
    },
    {
      "cell_type": "code",
      "metadata": {
        "id": "1Gd3xaYGGhst",
        "outputId": "2438ca94-27e1-41d8-df1d-5eee0832a2c6",
        "colab": {
          "base_uri": "https://localhost:8080/"
        }
      },
      "source": [
        "matriz"
      ],
      "execution_count": null,
      "outputs": [
        {
          "output_type": "execute_result",
          "data": {
            "text/plain": [
              "array([[2, 4, 6],\n",
              "       [3, 5, 7],\n",
              "       [4, 6, 8]])"
            ]
          },
          "metadata": {
            "tags": []
          },
          "execution_count": 94
        }
      ]
    },
    {
      "cell_type": "code",
      "metadata": {
        "id": "mHoOGaAoGizP"
      },
      "source": [
        "vector = np.array([2.0, 4.5, 6.2])"
      ],
      "execution_count": null,
      "outputs": []
    },
    {
      "cell_type": "code",
      "metadata": {
        "id": "cucSUDx5GxL6",
        "outputId": "13244304-4e35-469f-a597-af84f4465fd0",
        "colab": {
          "base_uri": "https://localhost:8080/"
        }
      },
      "source": [
        "vector.dtype"
      ],
      "execution_count": null,
      "outputs": [
        {
          "output_type": "execute_result",
          "data": {
            "text/plain": [
              "dtype('float64')"
            ]
          },
          "metadata": {
            "tags": []
          },
          "execution_count": 97
        }
      ]
    },
    {
      "cell_type": "code",
      "metadata": {
        "id": "9t8Qtrt5G4LF",
        "outputId": "c5175e56-3f4f-4f9a-cb52-06ecdf854a99",
        "colab": {
          "base_uri": "https://localhost:8080/"
        }
      },
      "source": [
        "matriz + matriz"
      ],
      "execution_count": null,
      "outputs": [
        {
          "output_type": "execute_result",
          "data": {
            "text/plain": [
              "array([[ 4,  8, 12],\n",
              "       [ 6, 10, 14],\n",
              "       [ 8, 12, 16]])"
            ]
          },
          "metadata": {
            "tags": []
          },
          "execution_count": 98
        }
      ]
    },
    {
      "cell_type": "code",
      "metadata": {
        "id": "i5u577kSHBPu",
        "outputId": "914db9ae-9c97-4c53-e454-23a440a4ae9e",
        "colab": {
          "base_uri": "https://localhost:8080/"
        }
      },
      "source": [
        "4 * matriz"
      ],
      "execution_count": null,
      "outputs": [
        {
          "output_type": "execute_result",
          "data": {
            "text/plain": [
              "array([[ 8, 16, 24],\n",
              "       [12, 20, 28],\n",
              "       [16, 24, 32]])"
            ]
          },
          "metadata": {
            "tags": []
          },
          "execution_count": 100
        }
      ]
    },
    {
      "cell_type": "code",
      "metadata": {
        "id": "-EaT7dJhHPI-",
        "outputId": "cfeb3356-5136-4da4-a649-42bd147ba440",
        "colab": {
          "base_uri": "https://localhost:8080/"
        }
      },
      "source": [
        "matriz"
      ],
      "execution_count": null,
      "outputs": [
        {
          "output_type": "execute_result",
          "data": {
            "text/plain": [
              "array([[2, 4, 6],\n",
              "       [3, 5, 7],\n",
              "       [4, 6, 8]])"
            ]
          },
          "metadata": {
            "tags": []
          },
          "execution_count": 102
        }
      ]
    },
    {
      "cell_type": "code",
      "metadata": {
        "id": "NeghVDBPHRX_",
        "outputId": "f8155fb8-a39e-48c5-f157-2c99b77c7644",
        "colab": {
          "base_uri": "https://localhost:8080/"
        }
      },
      "source": [
        "vector"
      ],
      "execution_count": null,
      "outputs": [
        {
          "output_type": "execute_result",
          "data": {
            "text/plain": [
              "array([2. , 4.5, 6.2])"
            ]
          },
          "metadata": {
            "tags": []
          },
          "execution_count": 103
        }
      ]
    },
    {
      "cell_type": "code",
      "metadata": {
        "id": "xmL5hob1HFEe",
        "outputId": "9666bac8-6d36-4420-dfcd-87d5b60a3ec2",
        "colab": {
          "base_uri": "https://localhost:8080/"
        }
      },
      "source": [
        "matriz + vector"
      ],
      "execution_count": null,
      "outputs": [
        {
          "output_type": "execute_result",
          "data": {
            "text/plain": [
              "array([[ 4. ,  8.5, 12.2],\n",
              "       [ 5. ,  9.5, 13.2],\n",
              "       [ 6. , 10.5, 14.2]])"
            ]
          },
          "metadata": {
            "tags": []
          },
          "execution_count": 101
        }
      ]
    },
    {
      "cell_type": "code",
      "metadata": {
        "id": "brUbw9c1HKiO",
        "outputId": "90bfdc9f-9259-453d-8986-5c606bbf574e",
        "colab": {
          "base_uri": "https://localhost:8080/"
        }
      },
      "source": [
        "np.zeros((4,2,3))"
      ],
      "execution_count": null,
      "outputs": [
        {
          "output_type": "execute_result",
          "data": {
            "text/plain": [
              "array([[[0., 0., 0.],\n",
              "        [0., 0., 0.]],\n",
              "\n",
              "       [[0., 0., 0.],\n",
              "        [0., 0., 0.]],\n",
              "\n",
              "       [[0., 0., 0.],\n",
              "        [0., 0., 0.]],\n",
              "\n",
              "       [[0., 0., 0.],\n",
              "        [0., 0., 0.]]])"
            ]
          },
          "metadata": {
            "tags": []
          },
          "execution_count": 105
        }
      ]
    },
    {
      "cell_type": "code",
      "metadata": {
        "id": "pJecye3rH99X",
        "outputId": "268c318a-a0e8-40f9-d9f6-f730732fa557",
        "colab": {
          "base_uri": "https://localhost:8080/"
        }
      },
      "source": [
        "np.ones((3,2))"
      ],
      "execution_count": null,
      "outputs": [
        {
          "output_type": "execute_result",
          "data": {
            "text/plain": [
              "array([[1., 1.],\n",
              "       [1., 1.],\n",
              "       [1., 1.]])"
            ]
          },
          "metadata": {
            "tags": []
          },
          "execution_count": 106
        }
      ]
    },
    {
      "cell_type": "code",
      "metadata": {
        "id": "F4qMckBXIL-v",
        "outputId": "576c09c8-8666-45a1-a609-82af0ef4264c",
        "colab": {
          "base_uri": "https://localhost:8080/"
        }
      },
      "source": [
        "vector"
      ],
      "execution_count": null,
      "outputs": [
        {
          "output_type": "execute_result",
          "data": {
            "text/plain": [
              "array([2. , 4.5, 6.2])"
            ]
          },
          "metadata": {
            "tags": []
          },
          "execution_count": 107
        }
      ]
    },
    {
      "cell_type": "code",
      "metadata": {
        "id": "Q7TAji5RIh9W",
        "outputId": "49a92477-8036-49fa-f523-9b1400352033",
        "colab": {
          "base_uri": "https://localhost:8080/"
        }
      },
      "source": [
        "vector.shape"
      ],
      "execution_count": null,
      "outputs": [
        {
          "output_type": "execute_result",
          "data": {
            "text/plain": [
              "(3,)"
            ]
          },
          "metadata": {
            "tags": []
          },
          "execution_count": 109
        }
      ]
    },
    {
      "cell_type": "code",
      "metadata": {
        "id": "zujTRBhRIfb-",
        "outputId": "57d15f14-4a0a-4b08-c6cb-048031ac1120",
        "colab": {
          "base_uri": "https://localhost:8080/"
        }
      },
      "source": [
        "matriz"
      ],
      "execution_count": null,
      "outputs": [
        {
          "output_type": "execute_result",
          "data": {
            "text/plain": [
              "array([[2, 4, 6],\n",
              "       [3, 5, 7],\n",
              "       [4, 6, 8]])"
            ]
          },
          "metadata": {
            "tags": []
          },
          "execution_count": 108
        }
      ]
    },
    {
      "cell_type": "code",
      "metadata": {
        "id": "dPRLFuFuIkEt",
        "outputId": "e91cbbc0-a9e7-4a69-c4e2-56e5e5352453",
        "colab": {
          "base_uri": "https://localhost:8080/"
        }
      },
      "source": [
        "matriz.shape"
      ],
      "execution_count": null,
      "outputs": [
        {
          "output_type": "execute_result",
          "data": {
            "text/plain": [
              "(3, 3)"
            ]
          },
          "metadata": {
            "tags": []
          },
          "execution_count": 110
        }
      ]
    },
    {
      "cell_type": "code",
      "metadata": {
        "id": "nYFz2KsmIgeP",
        "outputId": "266c2a77-05ae-48dd-a3cb-6ca15428d433",
        "colab": {
          "base_uri": "https://localhost:8080/"
        }
      },
      "source": [
        "np.dot(matriz, vector).shape"
      ],
      "execution_count": null,
      "outputs": [
        {
          "output_type": "execute_result",
          "data": {
            "text/plain": [
              "(3,)"
            ]
          },
          "metadata": {
            "tags": []
          },
          "execution_count": 121
        }
      ]
    },
    {
      "cell_type": "code",
      "metadata": {
        "id": "WgC7s832JBdd"
      },
      "source": [
        "new_vector = np.reshape(vector, (1,3))"
      ],
      "execution_count": null,
      "outputs": []
    },
    {
      "cell_type": "code",
      "metadata": {
        "id": "79YwPLsZJOPP",
        "outputId": "1c9d783a-d3cb-454d-9d43-822cc6ca4e95",
        "colab": {
          "base_uri": "https://localhost:8080/"
        }
      },
      "source": [
        "new_vector.shape"
      ],
      "execution_count": null,
      "outputs": [
        {
          "output_type": "execute_result",
          "data": {
            "text/plain": [
              "(1, 3)"
            ]
          },
          "metadata": {
            "tags": []
          },
          "execution_count": 114
        }
      ]
    },
    {
      "cell_type": "code",
      "metadata": {
        "id": "UIqA43OjJSy-"
      },
      "source": [
        "new_vector = np.reshape(vector, (3,1))"
      ],
      "execution_count": null,
      "outputs": []
    },
    {
      "cell_type": "code",
      "metadata": {
        "id": "amrNrx-yJYJF",
        "outputId": "8b105256-e5cb-411d-8b3c-d2e9187e0cca",
        "colab": {
          "base_uri": "https://localhost:8080/"
        }
      },
      "source": [
        "new_vector.shape"
      ],
      "execution_count": null,
      "outputs": [
        {
          "output_type": "execute_result",
          "data": {
            "text/plain": [
              "(3, 1)"
            ]
          },
          "metadata": {
            "tags": []
          },
          "execution_count": 116
        }
      ]
    },
    {
      "cell_type": "code",
      "metadata": {
        "id": "A4KeEkkJJZct",
        "outputId": "1e120942-d5c9-4377-8389-cd978b426954",
        "colab": {
          "base_uri": "https://localhost:8080/"
        }
      },
      "source": [
        "new_vector"
      ],
      "execution_count": null,
      "outputs": [
        {
          "output_type": "execute_result",
          "data": {
            "text/plain": [
              "array([[2. ],\n",
              "       [4.5],\n",
              "       [6.2]])"
            ]
          },
          "metadata": {
            "tags": []
          },
          "execution_count": 118
        }
      ]
    },
    {
      "cell_type": "code",
      "metadata": {
        "id": "-xpzhNWwJapm",
        "outputId": "5de07a83-220b-4fd5-b082-74f6b9e3f0e3",
        "colab": {
          "base_uri": "https://localhost:8080/"
        }
      },
      "source": [
        "np.dot(matriz, new_vector).shape"
      ],
      "execution_count": null,
      "outputs": [
        {
          "output_type": "execute_result",
          "data": {
            "text/plain": [
              "(3, 1)"
            ]
          },
          "metadata": {
            "tags": []
          },
          "execution_count": 120
        }
      ]
    },
    {
      "cell_type": "code",
      "metadata": {
        "id": "_IQrwMLaJjF2"
      },
      "source": [
        " val_matrix = np.random.randn(8,7)"
      ],
      "execution_count": null,
      "outputs": []
    },
    {
      "cell_type": "code",
      "metadata": {
        "id": "J1oub82BJ65Q",
        "outputId": "bd7a82a3-80d6-4f08-88f4-fcad6e05b722",
        "colab": {
          "base_uri": "https://localhost:8080/"
        }
      },
      "source": [
        "np.reshape(val_matrix, (4,-1)).shape"
      ],
      "execution_count": null,
      "outputs": [
        {
          "output_type": "execute_result",
          "data": {
            "text/plain": [
              "(4, 14)"
            ]
          },
          "metadata": {
            "tags": []
          },
          "execution_count": 129
        }
      ]
    },
    {
      "cell_type": "code",
      "metadata": {
        "id": "EN0aCOt8Kfq0",
        "outputId": "aaf80ae9-eba1-4bf1-bfe3-212bc75dc0df",
        "colab": {
          "base_uri": "https://localhost:8080/"
        }
      },
      "source": [
        "np.arange(2,14).reshape(6,-1)"
      ],
      "execution_count": null,
      "outputs": [
        {
          "output_type": "execute_result",
          "data": {
            "text/plain": [
              "array([[ 2,  3],\n",
              "       [ 4,  5],\n",
              "       [ 6,  7],\n",
              "       [ 8,  9],\n",
              "       [10, 11],\n",
              "       [12, 13]])"
            ]
          },
          "metadata": {
            "tags": []
          },
          "execution_count": 133
        }
      ]
    },
    {
      "cell_type": "code",
      "metadata": {
        "id": "Av1MY1g5K7Yh",
        "outputId": "d2a90d27-9392-40c9-b689-1ba61b8e743c",
        "colab": {
          "base_uri": "https://localhost:8080/"
        }
      },
      "source": [
        "matriz"
      ],
      "execution_count": null,
      "outputs": [
        {
          "output_type": "execute_result",
          "data": {
            "text/plain": [
              "array([[2, 4, 6],\n",
              "       [3, 5, 7],\n",
              "       [4, 6, 8]])"
            ]
          },
          "metadata": {
            "tags": []
          },
          "execution_count": 134
        }
      ]
    },
    {
      "cell_type": "code",
      "metadata": {
        "id": "1nf1SgAHLXQ-",
        "outputId": "5a3e12bb-d922-4bac-8d42-c974513cde66",
        "colab": {
          "base_uri": "https://localhost:8080/"
        }
      },
      "source": [
        "matriz[1][1]"
      ],
      "execution_count": null,
      "outputs": [
        {
          "output_type": "execute_result",
          "data": {
            "text/plain": [
              "5"
            ]
          },
          "metadata": {
            "tags": []
          },
          "execution_count": 135
        }
      ]
    }
  ]
}